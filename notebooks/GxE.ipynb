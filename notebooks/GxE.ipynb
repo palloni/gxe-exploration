{
 "cells": [
  {
   "cell_type": "markdown",
   "metadata": {},
   "source": [
    "# GxE problem\n",
    "\n",
    "- I updated the simulation function (scaling model) so that sigma is always positive (exponential)\n",
    "- I am using `yt` in the function below to estimate the model"
   ]
  },
  {
   "cell_type": "code",
   "execution_count": null,
   "metadata": {},
   "outputs": [],
   "source": [
    "library(brms)\n",
    "library(data.table)\n",
    "library(texreg)"
   ]
  },
  {
   "cell_type": "code",
   "execution_count": 112,
   "metadata": {},
   "outputs": [],
   "source": [
    "# Domingue's simulation function\n",
    "simData <- function(E,i=1,b0=.8,b1=.2,b2=0,b3=.05,h=sqrt(.6), a0 = 0, a1=.5, sigma=1,scaling=TRUE) {\n",
    "    N <- length(E)\n",
    "    G <- rnorm(N,0,1)\n",
    "    eps <- rnorm(N,1,sigma)\n",
    "    if (scaling){\n",
    "        e <- sqrt(1-h^2)\n",
    "        # I don't use ystar and y\n",
    "        ystar <- h*G+e*eps\n",
    "        y = a0 + a1*E+(b0 + b1*E)*ystar\n",
    "        # sigma of the error term should be\n",
    "        fsigma = exp(b0*e + b1*e*E) \n",
    "        # final y values\n",
    "        yt = a0 + a1*E + b0*h*G + b1*h*E*G + rnorm(N, 0, fsigma)\n",
    "\n",
    "    } else {\n",
    "        y <- b1*G+b2*E+b3*G*E+eps\n",
    "    }\n",
    "    df <- data.frame( E=E, y=y,yt = yt, g=G, error = error)\n",
    "    df\n",
    "}\n"
   ]
  },
  {
   "cell_type": "markdown",
   "metadata": {},
   "source": [
    "## Scaling model"
   ]
  },
  {
   "cell_type": "code",
   "execution_count": 113,
   "metadata": {},
   "outputs": [
    {
     "data": {
      "text/plain": "       E                  y                 yt                  g            \n Min.   :-3.40134   Min.   :-2.4784   Min.   :-7.510141   Min.   :-3.463412  \n 1st Qu.:-0.69075   1st Qu.:-0.2504   1st Qu.:-1.209768   1st Qu.:-0.657698  \n Median :-0.01347   Median : 0.4118   Median :-0.060209   Median :-0.002678  \n Mean   :-0.01863   Mean   : 0.4936   Mean   : 0.005862   Mean   : 0.010220  \n 3rd Qu.: 0.66807   3rd Qu.: 1.1285   3rd Qu.: 1.184128   3rd Qu.: 0.663497  \n Max.   : 3.93702   Max.   : 6.0476   Max.   : 8.273707   Max.   : 3.348608  \n     error      \n Min.   :1.006  \n 1st Qu.:1.521  \n Median :1.657  \n Mean   :1.668  \n 3rd Qu.:1.803  \n Max.   :2.817  "
     },
     "metadata": {},
     "output_type": "display_data"
    }
   ],
   "source": [
    "E = rnorm(5000, 0, 1)\n",
    "dts = data.table(simData(E, scaling = TRUE))\n",
    "summary(dts)\n",
    "\n"
   ]
  },
  {
   "cell_type": "code",
   "execution_count": 114,
   "metadata": {},
   "outputs": [
    {
     "name": "stdout",
     "output_type": "stream",
     "text": [
      "\n",
      "=====================================\n",
      "             Model 1      Model 2    \n",
      "-------------------------------------\n",
      "(Intercept)     0.50 ***     0.01    \n",
      "               (0.01)       (0.02)   \n",
      "g               0.62 ***     0.62 ***\n",
      "               (0.01)       (0.02)   \n",
      "E               0.64 ***     0.50 ***\n",
      "               (0.01)       (0.02)   \n",
      "g:E             0.15 ***     0.15 ***\n",
      "               (0.01)       (0.02)   \n",
      "-------------------------------------\n",
      "R^2             0.75         0.19    \n",
      "Adj. R^2        0.75         0.19    \n",
      "Num. obs.    5000         5000       \n",
      "=====================================\n",
      "*** p < 0.001; ** p < 0.01; * p < 0.05\n"
     ]
    }
   ],
   "source": [
    "cnames = c(\"ystar\", \"y\")\n",
    "m1 = lm(y ~ g + E + g * E, data = dts)\n",
    "m2 = lm(yt ~ g + E + g * E, data = dts)\n",
    "cat(screenreg(list(m1, m2)))"
   ]
  },
  {
   "cell_type": "markdown",
   "metadata": {},
   "source": [
    "\n",
    "# Bayesian distributional model\n"
   ]
  },
  {
   "cell_type": "code",
   "execution_count": 115,
   "metadata": {},
   "outputs": [
    {
     "name": "stderr",
     "output_type": "stream",
     "text": [
      "Compiling Stan program...\n",
      "\n",
      "recompiling to avoid crashing R session\n",
      "\n",
      "Start sampling\n",
      "\n"
     ]
    },
    {
     "name": "stdout",
     "output_type": "stream",
     "text": [
      "\n",
      "SAMPLING FOR MODEL '2f014d48f4e8e552ea3acf08e4adcff2' NOW (CHAIN 1).\n",
      "Chain 1: \n",
      "Chain 1: Gradient evaluation took 0.001844 seconds\n",
      "Chain 1: 1000 transitions using 10 leapfrog steps per transition would take 18.44 seconds.\n",
      "Chain 1: Adjust your expectations accordingly!\n",
      "Chain 1: \n",
      "Chain 1: \n",
      "Chain 1: Iteration:    1 / 2000 [  0%]  (Warmup)\n",
      "Chain 1: Iteration:  200 / 2000 [ 10%]  (Warmup)\n",
      "Chain 1: Iteration:  400 / 2000 [ 20%]  (Warmup)\n",
      "Chain 1: Iteration:  600 / 2000 [ 30%]  (Warmup)\n",
      "Chain 1: Iteration:  800 / 2000 [ 40%]  (Warmup)\n",
      "Chain 1: Iteration: 1000 / 2000 [ 50%]  (Warmup)\n",
      "Chain 1: Iteration: 1001 / 2000 [ 50%]  (Sampling)\n",
      "Chain 1: Iteration: 1200 / 2000 [ 60%]  (Sampling)\n",
      "Chain 1: Iteration: 1400 / 2000 [ 70%]  (Sampling)\n",
      "Chain 1: Iteration: 1600 / 2000 [ 80%]  (Sampling)\n",
      "Chain 1: Iteration: 1800 / 2000 [ 90%]  (Sampling)\n",
      "Chain 1: Iteration: 2000 / 2000 [100%]  (Sampling)\n",
      "Chain 1: \n",
      "Chain 1:  Elapsed Time: 3.42186 seconds (Warm-up)\n",
      "Chain 1:                3.33484 seconds (Sampling)\n",
      "Chain 1:                6.7567 seconds (Total)\n",
      "Chain 1: \n",
      "\n",
      "SAMPLING FOR MODEL '2f014d48f4e8e552ea3acf08e4adcff2' NOW (CHAIN 2).\n",
      "Chain 2: \n",
      "Chain 2: Gradient evaluation took 0.000621 seconds\n",
      "Chain 2: 1000 transitions using 10 leapfrog steps per transition would take 6.21 seconds.\n",
      "Chain 2: Adjust your expectations accordingly!\n",
      "Chain 2: \n",
      "Chain 2: \n",
      "Chain 2: Iteration:    1 / 2000 [  0%]  (Warmup)\n",
      "Chain 2: Iteration:  200 / 2000 [ 10%]  (Warmup)\n",
      "Chain 2: Iteration:  400 / 2000 [ 20%]  (Warmup)\n",
      "Chain 2: Iteration:  600 / 2000 [ 30%]  (Warmup)\n",
      "Chain 2: Iteration:  800 / 2000 [ 40%]  (Warmup)\n",
      "Chain 2: Iteration: 1000 / 2000 [ 50%]  (Warmup)\n",
      "Chain 2: Iteration: 1001 / 2000 [ 50%]  (Sampling)\n",
      "Chain 2: Iteration: 1200 / 2000 [ 60%]  (Sampling)\n",
      "Chain 2: Iteration: 1400 / 2000 [ 70%]  (Sampling)\n",
      "Chain 2: Iteration: 1600 / 2000 [ 80%]  (Sampling)\n",
      "Chain 2: Iteration: 1800 / 2000 [ 90%]  (Sampling)\n",
      "Chain 2: Iteration: 2000 / 2000 [100%]  (Sampling)\n",
      "Chain 2: \n",
      "Chain 2:  Elapsed Time: 3.34503 seconds (Warm-up)\n",
      "Chain 2:                3.15391 seconds (Sampling)\n",
      "Chain 2:                6.49894 seconds (Total)\n",
      "Chain 2: \n",
      "\n",
      "SAMPLING FOR MODEL '2f014d48f4e8e552ea3acf08e4adcff2' NOW (CHAIN 3).\n",
      "Chain 3: \n",
      "Chain 3: Gradient evaluation took 0.000691 seconds\n",
      "Chain 3: 1000 transitions using 10 leapfrog steps per transition would take 6.91 seconds.\n",
      "Chain 3: Adjust your expectations accordingly!\n",
      "Chain 3: \n",
      "Chain 3: \n",
      "Chain 3: Iteration:    1 / 2000 [  0%]  (Warmup)\n",
      "Chain 3: Iteration:  200 / 2000 [ 10%]  (Warmup)\n",
      "Chain 3: Iteration:  400 / 2000 [ 20%]  (Warmup)\n",
      "Chain 3: Iteration:  600 / 2000 [ 30%]  (Warmup)\n",
      "Chain 3: Iteration:  800 / 2000 [ 40%]  (Warmup)\n",
      "Chain 3: Iteration: 1000 / 2000 [ 50%]  (Warmup)\n",
      "Chain 3: Iteration: 1001 / 2000 [ 50%]  (Sampling)\n",
      "Chain 3: Iteration: 1200 / 2000 [ 60%]  (Sampling)\n",
      "Chain 3: Iteration: 1400 / 2000 [ 70%]  (Sampling)\n",
      "Chain 3: Iteration: 1600 / 2000 [ 80%]  (Sampling)\n",
      "Chain 3: Iteration: 1800 / 2000 [ 90%]  (Sampling)\n",
      "Chain 3: Iteration: 2000 / 2000 [100%]  (Sampling)\n",
      "Chain 3: \n",
      "Chain 3:  Elapsed Time: 3.32271 seconds (Warm-up)\n",
      "Chain 3:                3.58473 seconds (Sampling)\n",
      "Chain 3:                6.90744 seconds (Total)\n",
      "Chain 3: \n",
      "\n",
      "SAMPLING FOR MODEL '2f014d48f4e8e552ea3acf08e4adcff2' NOW (CHAIN 4).\n",
      "Chain 4: \n",
      "Chain 4: Gradient evaluation took 0.000578 seconds\n",
      "Chain 4: 1000 transitions using 10 leapfrog steps per transition would take 5.78 seconds.\n",
      "Chain 4: Adjust your expectations accordingly!\n",
      "Chain 4: \n",
      "Chain 4: \n",
      "Chain 4: Iteration:    1 / 2000 [  0%]  (Warmup)\n",
      "Chain 4: Iteration:  200 / 2000 [ 10%]  (Warmup)\n",
      "Chain 4: Iteration:  400 / 2000 [ 20%]  (Warmup)\n",
      "Chain 4: Iteration:  600 / 2000 [ 30%]  (Warmup)\n",
      "Chain 4: Iteration:  800 / 2000 [ 40%]  (Warmup)\n",
      "Chain 4: Iteration: 1000 / 2000 [ 50%]  (Warmup)\n",
      "Chain 4: Iteration: 1001 / 2000 [ 50%]  (Sampling)\n",
      "Chain 4: Iteration: 1200 / 2000 [ 60%]  (Sampling)\n",
      "Chain 4: Iteration: 1400 / 2000 [ 70%]  (Sampling)\n",
      "Chain 4: Iteration: 1600 / 2000 [ 80%]  (Sampling)\n",
      "Chain 4: Iteration: 1800 / 2000 [ 90%]  (Sampling)\n",
      "Chain 4: Iteration: 2000 / 2000 [100%]  (Sampling)\n",
      "Chain 4: \n",
      "Chain 4:  Elapsed Time: 3.42627 seconds (Warm-up)\n",
      "Chain 4:                3.10489 seconds (Sampling)\n",
      "Chain 4:                6.53116 seconds (Total)\n",
      "Chain 4: \n"
     ]
    }
   ],
   "source": [
    "# distributional model using bayesian stats\n",
    "\n",
    "f = bf(yt ~ g + E + g * E, sigma ~ 1 + E)\n",
    "m4 = brm(f, data = dts, family = brmsfamily(\"gaussian\", link_sigma = \"log\"))\n"
   ]
  },
  {
   "cell_type": "code",
   "execution_count": 118,
   "metadata": {},
   "outputs": [
    {
     "name": "stdout",
     "output_type": "stream",
     "text": [
      "\n",
      "==============================\n",
      "                 Model 1      \n",
      "------------------------------\n",
      "Intercept            0.01     \n",
      "                 [-0.03; 0.05]\n",
      "sigma_Intercept      0.50 *   \n",
      "                 [ 0.48; 0.52]\n",
      "g                    0.62 *   \n",
      "                 [ 0.58; 0.66]\n",
      "E                    0.51 *   \n",
      "                 [ 0.47; 0.55]\n",
      "g:E                  0.14 *   \n",
      "                 [ 0.10; 0.17]\n",
      "sigma_E              0.12 *   \n",
      "                 [ 0.10; 0.13]\n",
      "------------------------------\n",
      "R^2                  0.19     \n",
      "Num. obs.         5000        \n",
      "loo IC           19174.26     \n",
      "WAIC             19174.24     \n",
      "==============================\n",
      "* 0 outside the confidence interval.\n"
     ]
    }
   ],
   "source": [
    "# able to get the sigma coefficients of the simulation\n",
    "cat(screenreg(m4))"
   ]
  },
  {
   "cell_type": "code",
   "execution_count": 119,
   "metadata": {},
   "outputs": [
    {
     "data": {
      "text/plain": "Hypothesis Tests for class b:\n                Hypothesis Estimate Est.Error CI.Lower CI.Upper Evid.Ratio\n1 (g*sigma_E)-(g:E*... = 0        0      0.01    -0.02     0.03         NA\n  Post.Prob Star\n1        NA     \n---\n'CI': 90%-CI for one-sided and 95%-CI for two-sided hypotheses.\n'*': For one-sided hypotheses, the posterior probability exceeds 95%;\nfor two-sided hypotheses, the value tested against lies outside the 95%-CI.\nPosterior probabilities of point hypotheses assume equal prior probabilities."
     },
     "metadata": {},
     "output_type": "display_data"
    }
   ],
   "source": [
    "\n",
    "# I cannot reject the null hypothesis\n",
    "hyp <- \"g * sigma_E = g:E * sigma_Intercept\"\n",
    "(hyp <- hypothesis(m4, hyp, alpha = 0.05))\n"
   ]
  },
  {
   "cell_type": "code",
   "execution_count": null,
   "metadata": {},
   "outputs": [],
   "source": []
  }
 ],
 "metadata": {
  "kernelspec": {
   "display_name": "R",
   "language": "R",
   "name": "ir"
  },
  "language_info": {
   "codemirror_mode": "r",
   "file_extension": ".r",
   "mimetype": "text/x-r-source",
   "name": "R",
   "pygments_lexer": "r",
   "version": "4.0.4"
  }
 },
 "nbformat": 4,
 "nbformat_minor": 5
}