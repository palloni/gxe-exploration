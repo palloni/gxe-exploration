{
 "cells": [
  {
   "cell_type": "markdown",
   "metadata": {},
   "source": [
    "# GxE problem\n",
    "\n",
    "- I updated the simulation function so that sigma is always positive (exponential)\n",
    "- I am using `yt` in the function below to estimate models"
   ]
  },
  {
   "cell_type": "code",
   "execution_count": null,
   "metadata": {},
   "outputs": [],
   "source": [
    "library(brms)\n",
    "library(data.table)\n",
    "library(texreg)"
   ]
  },
  {
   "cell_type": "code",
   "execution_count": 3,
   "metadata": {},
   "outputs": [],
   "source": [
    "# Domingue's simulation function (adjusted)\n",
    "simData = function(E,i=1,b0=.8,b1=.2,b2=0,b3=.05,h=sqrt(.6), a0 = 0, a1=.5, sigma=1,scaling=TRUE) {\n",
    "    N = length(E)\n",
    "    G = rnorm(N,0,1)\n",
    "    eps = rnorm(N,1,sigma)\n",
    "    if (scaling){\n",
    "        e = sqrt(1-h^2)\n",
    "        # I don't use ystar and y\n",
    "        ystar = h*G+e*eps\n",
    "        y = a0 + a1*E+(b0 + b1*E)*ystar\n",
    "        # sigma of the error term should be\n",
    "        fsigma = exp(b0*e + b1*e*E) \n",
    "        # final y values\n",
    "        yt = a0 + a1*E + b0*h*G + b1*h*E*G + rnorm(N, 0, fsigma)\n",
    "\n",
    "    } else {   \n",
    "        y = b1*G + b2*E+ b3*G*E + eps\n",
    "        fsigma = exp(0.1 + 0.4*E) \n",
    "        yt = a0 + b1*G + b2*E+ b3*G*E + rnorm(N, 0, fsigma)\n",
    "    }\n",
    "    df = data.frame( E=E, y=y,yt = yt, g=G)\n",
    "    df\n",
    "}\n"
   ]
  },
  {
   "cell_type": "markdown",
   "metadata": {},
   "source": [
    "## Scaling model"
   ]
  },
  {
   "cell_type": "code",
   "execution_count": 16,
   "metadata": {},
   "outputs": [
    {
     "data": {
      "text/plain": "       E                   y                 yt                 g            \n Min.   :-3.301867   Min.   :-2.2517   Min.   :-6.94959   Min.   :-3.507243  \n 1st Qu.:-0.673069   1st Qu.:-0.2315   1st Qu.:-1.29079   1st Qu.:-0.676297  \n Median :-0.015479   Median : 0.4216   Median :-0.06325   Median : 0.002465  \n Mean   :-0.008537   Mean   : 0.5119   Mean   :-0.01304   Mean   : 0.010831  \n 3rd Qu.: 0.670350   3rd Qu.: 1.1453   3rd Qu.: 1.16263   3rd Qu.: 0.700029  \n Max.   : 3.536246   Max.   : 5.3418   Max.   : 7.34203   Max.   : 4.181852  "
     },
     "metadata": {},
     "output_type": "display_data"
    }
   ],
   "source": [
    "E = rnorm(5000, 0, 1)\n",
    "dts = data.table(simData(E, scaling = TRUE))\n",
    "summary(dts)\n",
    "\n"
   ]
  },
  {
   "cell_type": "code",
   "execution_count": 17,
   "metadata": {},
   "outputs": [
    {
     "name": "stdout",
     "output_type": "stream",
     "text": [
      "\n",
      "=====================================\n",
      "             Model 1      Model 2    \n",
      "-------------------------------------\n",
      "(Intercept)     0.51 ***    -0.02    \n",
      "               (0.01)       (0.02)   \n",
      "g               0.62 ***     0.63 ***\n",
      "               (0.01)       (0.02)   \n",
      "E               0.63 ***     0.50 ***\n",
      "               (0.01)       (0.02)   \n",
      "g:E             0.15 ***     0.14 ***\n",
      "               (0.01)       (0.02)   \n",
      "-------------------------------------\n",
      "R^2             0.75         0.19    \n",
      "Adj. R^2        0.75         0.19    \n",
      "Num. obs.    5000         5000       \n",
      "=====================================\n",
      "*** p < 0.001; ** p < 0.01; * p < 0.05\n"
     ]
    }
   ],
   "source": [
    "cnames = c(\"ystar\", \"y\")\n",
    "m1 = lm(y ~ g + E + g * E, data = dts)\n",
    "m2 = lm(yt ~ g + E + g * E, data = dts)\n",
    "cat(screenreg(list(m1, m2)))"
   ]
  },
  {
   "cell_type": "markdown",
   "metadata": {},
   "source": [
    "\n",
    "# Bayesian distributional model\n"
   ]
  },
  {
   "cell_type": "markdown",
   "metadata": {},
   "source": [
    "## Scaling model"
   ]
  },
  {
   "cell_type": "code",
   "execution_count": null,
   "metadata": {},
   "outputs": [],
   "source": [
    "# distributional model using bayesian stats\n",
    "f = bf(yt ~ g + E + g * E, sigma ~ 1 + E)\n",
    "m3 = brm(f, data = dts, family = brmsfamily(\"gaussian\", link_sigma = \"log\"))\n"
   ]
  },
  {
   "cell_type": "code",
   "execution_count": 20,
   "metadata": {},
   "outputs": [
    {
     "name": "stdout",
     "output_type": "stream",
     "text": [
      "\n",
      "==============================\n",
      "                 Model 1      \n",
      "------------------------------\n",
      "Intercept           -0.02     \n",
      "                 [-0.06; 0.02]\n",
      "sigma_Intercept      0.51 *   \n",
      "                 [ 0.49; 0.52]\n",
      "g                    0.63 *   \n",
      "                 [ 0.59; 0.67]\n",
      "E                    0.50 *   \n",
      "                 [ 0.46; 0.54]\n",
      "g:E                  0.14 *   \n",
      "                 [ 0.10; 0.18]\n",
      "sigma_E              0.13 *   \n",
      "                 [ 0.11; 0.15]\n",
      "------------------------------\n",
      "R^2                  0.19     \n",
      "Num. obs.         5000        \n",
      "loo IC           19274.58     \n",
      "WAIC             19274.57     \n",
      "==============================\n",
      "* 0 outside the confidence interval.\n"
     ]
    }
   ],
   "source": [
    "# able to get the sigma coefficients of the simulation\n",
    "cat(screenreg(m3))"
   ]
  },
  {
   "cell_type": "code",
   "execution_count": 19,
   "metadata": {},
   "outputs": [
    {
     "data": {
      "text/plain": "Hypothesis Tests for class b:\n                Hypothesis Estimate Est.Error CI.Lower CI.Upper Evid.Ratio\n1 (g*sigma_E)-(g:E*... = 0     0.01      0.01    -0.01     0.04         NA\n  Post.Prob Star\n1        NA     \n---\n'CI': 90%-CI for one-sided and 95%-CI for two-sided hypotheses.\n'*': For one-sided hypotheses, the posterior probability exceeds 95%;\nfor two-sided hypotheses, the value tested against lies outside the 95%-CI.\nPosterior probabilities of point hypotheses assume equal prior probabilities."
     },
     "metadata": {},
     "output_type": "display_data"
    }
   ],
   "source": [
    "\n",
    "# I cannot reject the null hypothesis\n",
    "hyp <- \"g * sigma_E = g:E * sigma_Intercept\"\n",
    "(hyp <- hypothesis(m3, hyp, alpha = 0.05))\n"
   ]
  },
  {
   "cell_type": "markdown",
   "metadata": {},
   "source": [
    "## Non-scaling model"
   ]
  },
  {
   "cell_type": "code",
   "execution_count": 9,
   "metadata": {},
   "outputs": [
    {
     "data": {
      "text/plain": "       E                   y                 yt                 g            \n Min.   :-3.195115   Min.   :-3.2102   Min.   :-7.98533   Min.   :-4.456101  \n 1st Qu.:-0.687378   1st Qu.: 0.3093   1st Qu.:-0.73812   1st Qu.:-0.671414  \n Median : 0.021276   Median : 0.9959   Median : 0.01515   Median :-0.012346  \n Mean   : 0.006253   Mean   : 0.9877   Mean   :-0.01035   Mean   : 0.004088  \n 3rd Qu.: 0.683919   3rd Qu.: 1.6650   3rd Qu.: 0.73109   3rd Qu.: 0.690277  \n Max.   : 3.338312   Max.   : 4.6601   Max.   : 7.20045   Max.   : 4.046617  "
     },
     "metadata": {},
     "output_type": "display_data"
    }
   ],
   "source": [
    "dt = data.table(simData(E, scaling = FALSE))\n",
    "summary(dt)"
   ]
  },
  {
   "cell_type": "code",
   "execution_count": null,
   "metadata": {},
   "outputs": [],
   "source": [
    "f = bf(yt ~ g + E + g * E, sigma ~ 1 + E)\n",
    "m4 = brm(f, data = dt, family = brmsfamily(\"gaussian\", link_sigma = \"log\"))"
   ]
  },
  {
   "cell_type": "code",
   "execution_count": 11,
   "metadata": {},
   "outputs": [
    {
     "name": "stdout",
     "output_type": "stream",
     "text": [
      "\n",
      "==============================\n",
      "                 Model 1      \n",
      "------------------------------\n",
      "Intercept           -0.01     \n",
      "                 [-0.04; 0.02]\n",
      "sigma_Intercept      0.10 *   \n",
      "                 [ 0.09; 0.12]\n",
      "g                    0.18 *   \n",
      "                 [ 0.15; 0.20]\n",
      "E                    0.00     \n",
      "                 [-0.02; 0.02]\n",
      "g:E                  0.02     \n",
      "                 [-0.00; 0.05]\n",
      "sigma_E              0.41 *   \n",
      "                 [ 0.39; 0.42]\n",
      "------------------------------\n",
      "R^2                  0.02     \n",
      "Num. obs.         5000        \n",
      "loo IC           15265.79     \n",
      "WAIC             15265.78     \n",
      "==============================\n",
      "* 0 outside the confidence interval.\n"
     ]
    }
   ],
   "source": [
    "cat(screenreg(m4))"
   ]
  },
  {
   "cell_type": "code",
   "execution_count": 15,
   "metadata": {},
   "outputs": [
    {
     "data": {
      "text/plain": "Hypothesis Tests for class b:\n                Hypothesis Estimate Est.Error CI.Lower CI.Upper Evid.Ratio\n1 (g*sigma_E)-(g:E*... = 0     0.07      0.01     0.06     0.08         NA\n  Post.Prob Star\n1        NA    *\n---\n'CI': 90%-CI for one-sided and 95%-CI for two-sided hypotheses.\n'*': For one-sided hypotheses, the posterior probability exceeds 95%;\nfor two-sided hypotheses, the value tested against lies outside the 95%-CI.\nPosterior probabilities of point hypotheses assume equal prior probabilities."
     },
     "metadata": {},
     "output_type": "display_data"
    }
   ],
   "source": [
    "# I reject the null hypothesis\n",
    "hyp <- \"g * sigma_E = g:E * sigma_Intercept\"\n",
    "(hyp <- hypothesis(m4, hyp, alpha = 0.05))"
   ]
  }
 ],
 "metadata": {
  "kernelspec": {
   "display_name": "R",
   "language": "R",
   "name": "ir"
  },
  "language_info": {
   "codemirror_mode": "r",
   "file_extension": ".r",
   "mimetype": "text/x-r-source",
   "name": "R",
   "pygments_lexer": "r",
   "version": "4.0.4"
  }
 },
 "nbformat": 4,
 "nbformat_minor": 5
}