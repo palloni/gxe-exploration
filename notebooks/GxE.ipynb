{
 "cells": [
  {
   "cell_type": "markdown",
   "metadata": {},
   "source": [
    "# GxE problem\n",
    "\n",
    "- I updated the simulation function so that sigma is always positive (exponential)\n",
    "- I am using `yt` in the function below to estimate models"
   ]
  },
  {
   "cell_type": "code",
   "execution_count": 17,
   "metadata": {},
   "outputs": [],
   "source": [
    "library(brms)\n",
    "library(data.table)\n",
    "library(texreg)"
   ]
  },
  {
   "cell_type": "code",
   "execution_count": 7,
   "metadata": {},
   "outputs": [],
   "source": [
    "# Domingue's simulation function (adjusted)\n",
    "simData = function(E,i=1,b0=.8,b1=.2,b2=0.2,b3=.15,h=sqrt(.6), a0 = 0, a1=.5, sigma=1,scaling=TRUE) {\n",
    "    N = length(E)\n",
    "    G = rnorm(N,0,1)\n",
    "    eps = rnorm(N,1,sigma)\n",
    "    if (scaling){\n",
    "        e = sqrt(1-h^2)\n",
    "        # I don't use ystar and y\n",
    "        ystar = h*G+e*eps\n",
    "        y = a0 + a1*E+(b0 + b1*E)*ystar\n",
    "        # sigma of the error term should be\n",
    "        fsigma = exp(b0*e + b1*e*E) \n",
    "        # final y values\n",
    "        yt = a0 + a1*E + b0*h*G + b1*h*E*G + rnorm(N, 0, fsigma)\n",
    "\n",
    "    } else {   \n",
    "        y = b1*G + b2*E+ b3*G*E + eps\n",
    "        fsigma = exp(0.1 + 0.4*E) \n",
    "        yt = a0 + b1*G + b2*E+ b3*G*E + rnorm(N, 0, fsigma)\n",
    "    }\n",
    "    df = data.frame( E=E, y=y,yt = yt, g=G)\n",
    "    df\n",
    "}\n"
   ]
  },
  {
   "cell_type": "markdown",
   "metadata": {},
   "source": [
    "## Scaling model"
   ]
  },
  {
   "cell_type": "code",
   "execution_count": 8,
   "metadata": {},
   "outputs": [
    {
     "data": {
      "text/plain": "       E                   y                 yt                 g            \n Min.   :-3.422758   Min.   :-2.2119   Min.   :-7.96256   Min.   :-4.147215  \n 1st Qu.:-0.679987   1st Qu.:-0.2451   1st Qu.:-1.29524   1st Qu.:-0.649639  \n Median :-0.001713   Median : 0.3913   Median :-0.10122   Median :-0.000141  \n Mean   :-0.000054   Mean   : 0.4979   Mean   :-0.01383   Mean   : 0.005990  \n 3rd Qu.: 0.682829   3rd Qu.: 1.1286   3rd Qu.: 1.14081   3rd Qu.: 0.655652  \n Max.   : 3.797076   Max.   : 6.0249   Max.   : 9.93467   Max.   : 3.642731  "
     },
     "metadata": {},
     "output_type": "display_data"
    }
   ],
   "source": [
    "E = rnorm(5000, 0, 1)\n",
    "dts = data.table(simData(E, scaling = TRUE))\n",
    "summary(dts)\n",
    "\n"
   ]
  },
  {
   "cell_type": "code",
   "execution_count": 9,
   "metadata": {},
   "outputs": [
    {
     "name": "stdout",
     "output_type": "stream",
     "text": [
      "\n",
      "=====================================\n",
      "             Model 1      Model 2    \n",
      "-------------------------------------\n",
      "(Intercept)     0.50 ***    -0.01    \n",
      "               (0.01)       (0.02)   \n",
      "g               0.62 ***     0.62 ***\n",
      "               (0.01)       (0.02)   \n",
      "E               0.64 ***     0.51 ***\n",
      "               (0.01)       (0.02)   \n",
      "g:E             0.17 ***     0.22 ***\n",
      "               (0.01)       (0.02)   \n",
      "-------------------------------------\n",
      "R^2             0.75         0.19    \n",
      "Adj. R^2        0.75         0.19    \n",
      "Num. obs.    5000         5000       \n",
      "=====================================\n",
      "*** p < 0.001; ** p < 0.01; * p < 0.05\n"
     ]
    }
   ],
   "source": [
    "cnames = c(\"ystar\", \"y\")\n",
    "m1 = lm(y ~ g + E + g * E, data = dts)\n",
    "m2 = lm(yt ~ g + E + g * E, data = dts)\n",
    "cat(screenreg(list(m1, m2)))"
   ]
  },
  {
   "cell_type": "markdown",
   "metadata": {},
   "source": [
    "\n",
    "# Bayesian distributional model\n"
   ]
  },
  {
   "cell_type": "markdown",
   "metadata": {},
   "source": [
    "## Scaling model"
   ]
  },
  {
   "cell_type": "code",
   "execution_count": null,
   "metadata": {},
   "outputs": [],
   "source": [
    "# distributional model using bayesian stats\n",
    "f = bf(yt ~ g + E + g * E, sigma ~ 1 + E)\n",
    "m3 = brm(f, data = dts, family = brmsfamily(\"gaussian\", link_sigma = \"log\"))\n"
   ]
  },
  {
   "cell_type": "code",
   "execution_count": 11,
   "metadata": {},
   "outputs": [
    {
     "name": "stdout",
     "output_type": "stream",
     "text": [
      "\n",
      "==============================\n",
      "                 Model 1      \n",
      "------------------------------\n",
      "Intercept           -0.01     \n",
      "                 [-0.05; 0.03]\n",
      "sigma_Intercept      0.51 *   \n",
      "                 [ 0.49; 0.53]\n",
      "g                    0.62 *   \n",
      "                 [ 0.58; 0.66]\n",
      "E                    0.51 *   \n",
      "                 [ 0.47; 0.55]\n",
      "g:E                  0.20 *   \n",
      "                 [ 0.16; 0.23]\n",
      "sigma_E              0.13 *   \n",
      "                 [ 0.11; 0.14]\n",
      "------------------------------\n",
      "R^2                  0.19     \n",
      "Num. obs.         5000        \n",
      "loo IC           19301.98     \n",
      "WAIC             19301.96     \n",
      "==============================\n",
      "* 0 outside the confidence interval.\n"
     ]
    }
   ],
   "source": [
    "# able to get the sigma coefficients of the simulation\n",
    "cat(screenreg(m3))"
   ]
  },
  {
   "cell_type": "code",
   "execution_count": 12,
   "metadata": {},
   "outputs": [
    {
     "data": {
      "text/plain": "Hypothesis Tests for class b:\n                Hypothesis Estimate Est.Error CI.Lower CI.Upper Evid.Ratio\n1 (g*sigma_E)-(g:E*... = 0    -0.02      0.01    -0.05     0.01         NA\n  Post.Prob Star\n1        NA     \n---\n'CI': 90%-CI for one-sided and 95%-CI for two-sided hypotheses.\n'*': For one-sided hypotheses, the posterior probability exceeds 95%;\nfor two-sided hypotheses, the value tested against lies outside the 95%-CI.\nPosterior probabilities of point hypotheses assume equal prior probabilities."
     },
     "metadata": {},
     "output_type": "display_data"
    }
   ],
   "source": [
    "\n",
    "# I cannot reject the null hypothesis\n",
    "hyp <- \"g * sigma_E = g:E * sigma_Intercept\"\n",
    "(hyp <- hypothesis(m3, hyp, alpha = 0.05))\n"
   ]
  },
  {
   "cell_type": "markdown",
   "metadata": {},
   "source": [
    "## Non-scaling model"
   ]
  },
  {
   "cell_type": "code",
   "execution_count": 13,
   "metadata": {},
   "outputs": [
    {
     "data": {
      "text/plain": "       E                   y                 yt                 g            \n Min.   :-3.422758   Min.   :-2.1670   Min.   :-5.57675   Min.   :-3.816905  \n 1st Qu.:-0.679987   1st Qu.: 0.3471   1st Qu.:-0.77644   1st Qu.:-0.680667  \n Median :-0.001713   Median : 1.0098   Median :-0.09029   Median :-0.005071  \n Mean   :-0.000054   Mean   : 1.0248   Mean   : 0.01564   Mean   :-0.009181  \n 3rd Qu.: 0.682829   3rd Qu.: 1.6896   3rd Qu.: 0.73278   3rd Qu.: 0.656683  \n Max.   : 3.797076   Max.   : 4.8681   Max.   :12.08294   Max.   : 3.876883  "
     },
     "metadata": {},
     "output_type": "display_data"
    }
   ],
   "source": [
    "dt = data.table(simData(E, scaling = FALSE))\n",
    "summary(dt)"
   ]
  },
  {
   "cell_type": "code",
   "execution_count": null,
   "metadata": {},
   "outputs": [],
   "source": [
    "f = bf(yt ~ g + E + g * E, sigma ~ 1 + E)\n",
    "m4 = brm(f, data = dt, family = brmsfamily(\"gaussian\", link_sigma = \"log\"))"
   ]
  },
  {
   "cell_type": "code",
   "execution_count": 15,
   "metadata": {},
   "outputs": [
    {
     "name": "stdout",
     "output_type": "stream",
     "text": [
      "\n",
      "==============================\n",
      "                 Model 1      \n",
      "------------------------------\n",
      "Intercept            0.01     \n",
      "                 [-0.01; 0.04]\n",
      "sigma_Intercept      0.10 *   \n",
      "                 [ 0.08; 0.12]\n",
      "g                    0.19 *   \n",
      "                 [ 0.16; 0.21]\n",
      "E                    0.21 *   \n",
      "                 [ 0.19; 0.24]\n",
      "g:E                  0.14 *   \n",
      "                 [ 0.12; 0.16]\n",
      "sigma_E              0.39 *   \n",
      "                 [ 0.37; 0.40]\n",
      "------------------------------\n",
      "R^2                  0.06     \n",
      "Num. obs.         5000        \n",
      "loo IC           15191.64     \n",
      "WAIC             15191.62     \n",
      "==============================\n",
      "* 0 outside the confidence interval.\n"
     ]
    }
   ],
   "source": [
    "cat(screenreg(m4))"
   ]
  },
  {
   "cell_type": "code",
   "execution_count": 16,
   "metadata": {},
   "outputs": [
    {
     "data": {
      "text/plain": "Hypothesis Tests for class b:\n                Hypothesis Estimate Est.Error CI.Lower CI.Upper Evid.Ratio\n1 (g*sigma_E)-(g:E*... = 0     0.06      0.01     0.05     0.07         NA\n  Post.Prob Star\n1        NA    *\n---\n'CI': 90%-CI for one-sided and 95%-CI for two-sided hypotheses.\n'*': For one-sided hypotheses, the posterior probability exceeds 95%;\nfor two-sided hypotheses, the value tested against lies outside the 95%-CI.\nPosterior probabilities of point hypotheses assume equal prior probabilities."
     },
     "metadata": {},
     "output_type": "display_data"
    }
   ],
   "source": [
    "# I reject the null hypothesis\n",
    "hyp <- \"g * sigma_E = g:E * sigma_Intercept\"\n",
    "(hyp <- hypothesis(m4, hyp, alpha = 0.05))"
   ]
  }
 ],
 "metadata": {
  "kernelspec": {
   "display_name": "R",
   "language": "R",
   "name": "ir"
  },
  "language_info": {
   "codemirror_mode": "r",
   "file_extension": ".r",
   "mimetype": "text/x-r-source",
   "name": "R",
   "pygments_lexer": "r",
   "version": "4.0.4"
  }
 },
 "nbformat": 4,
 "nbformat_minor": 5
}