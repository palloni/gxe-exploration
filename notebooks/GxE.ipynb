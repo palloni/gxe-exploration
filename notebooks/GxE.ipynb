{
 "cells": [
  {
   "cell_type": "markdown",
   "metadata": {},
   "source": [
    "# GxE problem\n",
    "\n",
    "- I updated the simulation function (scaling model) so that sigma is always positive (exponential)\n",
    "- I am using `yt` in the function below to estimate the model"
   ]
  },
  {
   "cell_type": "code",
   "execution_count": 5,
   "metadata": {},
   "outputs": [],
   "source": [
    "library(brms)\n",
    "library(data.table)\n",
    "library(texreg)"
   ]
  },
  {
   "cell_type": "code",
   "execution_count": 15,
   "metadata": {},
   "outputs": [],
   "source": [
    "# Domingue's simulation function\n",
    "simData = function(E,i=1,b0=.8,b1=.2,b2=0,b3=.05,h=sqrt(.6), a0 = 0, a1=.5, sigma=1,scaling=TRUE) {\n",
    "    N = length(E)\n",
    "    G = rnorm(N,0,1)\n",
    "    eps = rnorm(N,1,sigma)\n",
    "    if (scaling){\n",
    "        e = sqrt(1-h^2)\n",
    "        # I don't use ystar and y\n",
    "        ystar = h*G+e*eps\n",
    "        y = a0 + a1*E+(b0 + b1*E)*ystar\n",
    "        # sigma of the error term should be\n",
    "        fsigma = exp(b0*e + b1*e*E) \n",
    "        # final y values\n",
    "        yt = a0 + a1*E + b0*h*G + b1*h*E*G + rnorm(N, 0, fsigma)\n",
    "\n",
    "    } else {   \n",
    "        y = b1*G + b2*E+ b3*G*E + eps\n",
    "        fsigma = exp(0.1 + 0.4*E) \n",
    "        yt = a0 + b1*G + b2*E+ b3*G*E + rnorm(N, 0, fsigma)\n",
    "    }\n",
    "    df = data.frame( E=E, y=y,yt = yt, g=G)\n",
    "    df\n",
    "}\n"
   ]
  },
  {
   "cell_type": "markdown",
   "metadata": {},
   "source": [
    "## Scaling model"
   ]
  },
  {
   "cell_type": "code",
   "execution_count": 7,
   "metadata": {},
   "outputs": [
    {
     "data": {
      "text/plain": "       E                   y                 yt                 g           \n Min.   :-3.650110   Min.   :-2.3114   Min.   :-7.14639   Min.   :-4.10540  \n 1st Qu.:-0.689086   1st Qu.:-0.2348   1st Qu.:-1.33631   1st Qu.:-0.67692  \n Median : 0.008993   Median : 0.4117   Median :-0.08744   Median :-0.03472  \n Mean   :-0.004884   Mean   : 0.5005   Mean   :-0.03744   Mean   :-0.01684  \n 3rd Qu.: 0.671552   3rd Qu.: 1.1462   3rd Qu.: 1.17967   3rd Qu.: 0.66152  \n Max.   : 3.408695   Max.   : 4.7236   Max.   : 7.76733   Max.   : 3.37867  "
     },
     "metadata": {},
     "output_type": "display_data"
    }
   ],
   "source": [
    "E = rnorm(5000, 0, 1)\n",
    "dts = data.table(simData(E, scaling = TRUE))\n",
    "summary(dts)\n",
    "\n"
   ]
  },
  {
   "cell_type": "code",
   "execution_count": 8,
   "metadata": {},
   "outputs": [
    {
     "name": "stdout",
     "output_type": "stream",
     "text": [
      "\n",
      "=====================================\n",
      "             Model 1      Model 2    \n",
      "-------------------------------------\n",
      "(Intercept)     0.51 ***    -0.02    \n",
      "               (0.01)       (0.02)   \n",
      "g               0.63 ***     0.62 ***\n",
      "               (0.01)       (0.02)   \n",
      "E               0.62 ***     0.56 ***\n",
      "               (0.01)       (0.02)   \n",
      "g:E             0.16 ***     0.17 ***\n",
      "               (0.01)       (0.02)   \n",
      "-------------------------------------\n",
      "R^2             0.74         0.20    \n",
      "Adj. R^2        0.74         0.20    \n",
      "Num. obs.    5000         5000       \n",
      "=====================================\n",
      "*** p < 0.001; ** p < 0.01; * p < 0.05\n"
     ]
    }
   ],
   "source": [
    "cnames = c(\"ystar\", \"y\")\n",
    "m1 = lm(y ~ g + E + g * E, data = dts)\n",
    "m2 = lm(yt ~ g + E + g * E, data = dts)\n",
    "cat(screenreg(list(m1, m2)))"
   ]
  },
  {
   "cell_type": "markdown",
   "metadata": {},
   "source": [
    "\n",
    "# Bayesian distributional model\n"
   ]
  },
  {
   "cell_type": "code",
   "execution_count": null,
   "metadata": {},
   "outputs": [],
   "source": [
    "# distributional model using bayesian stats\n",
    "\n",
    "f = bf(yt ~ g + E + g * E, sigma ~ 1 + E)\n",
    "m3 = brm(f, data = dts, family = brmsfamily(\"gaussian\", link_sigma = \"log\"))\n"
   ]
  },
  {
   "cell_type": "code",
   "execution_count": 10,
   "metadata": {},
   "outputs": [
    {
     "name": "stdout",
     "output_type": "stream",
     "text": [
      "\n",
      "==============================\n",
      "                 Model 1      \n",
      "------------------------------\n",
      "Intercept           -0.02     \n",
      "                 [-0.07; 0.02]\n",
      "sigma_Intercept      0.51 *   \n",
      "                 [ 0.50; 0.53]\n",
      "g                    0.62 *   \n",
      "                 [ 0.58; 0.66]\n",
      "E                    0.56 *   \n",
      "                 [ 0.52; 0.60]\n",
      "g:E                  0.17 *   \n",
      "                 [ 0.13; 0.21]\n",
      "sigma_E              0.12 *   \n",
      "                 [ 0.11; 0.14]\n",
      "------------------------------\n",
      "R^2                  0.20     \n",
      "Num. obs.         5000        \n",
      "loo IC           19336.35     \n",
      "WAIC             19336.34     \n",
      "==============================\n",
      "* 0 outside the confidence interval.\n"
     ]
    }
   ],
   "source": [
    "# able to get the sigma coefficients of the simulation\n",
    "cat(screenreg(m3))"
   ]
  },
  {
   "cell_type": "code",
   "execution_count": 12,
   "metadata": {},
   "outputs": [
    {
     "data": {
      "text/plain": "Hypothesis Tests for class b:\n                Hypothesis Estimate Est.Error CI.Lower CI.Upper Evid.Ratio\n1 (g*sigma_E)-(g:E*... = 0    -0.01      0.01    -0.04     0.02         NA\n  Post.Prob Star\n1        NA     \n---\n'CI': 90%-CI for one-sided and 95%-CI for two-sided hypotheses.\n'*': For one-sided hypotheses, the posterior probability exceeds 95%;\nfor two-sided hypotheses, the value tested against lies outside the 95%-CI.\nPosterior probabilities of point hypotheses assume equal prior probabilities."
     },
     "metadata": {},
     "output_type": "display_data"
    }
   ],
   "source": [
    "\n",
    "# I cannot reject the null hypothesis\n",
    "hyp <- \"g * sigma_E = g:E * sigma_Intercept\"\n",
    "(hyp <- hypothesis(m3, hyp, alpha = 0.05))\n"
   ]
  },
  {
   "cell_type": "code",
   "execution_count": 16,
   "metadata": {},
   "outputs": [
    {
     "data": {
      "text/plain": "       E                   y                 yt                 g           \n Min.   :-3.650110   Min.   :-2.2042   Min.   :-7.16783   Min.   :-3.18134  \n 1st Qu.:-0.689086   1st Qu.: 0.3189   1st Qu.:-0.72768   1st Qu.:-0.68430  \n Median : 0.008993   Median : 1.0036   Median : 0.01175   Median :-0.02271  \n Mean   :-0.004884   Mean   : 1.0189   Mean   :-0.02700   Mean   :-0.02305  \n 3rd Qu.: 0.671552   3rd Qu.: 1.7094   3rd Qu.: 0.69747   3rd Qu.: 0.62100  \n Max.   : 3.408695   Max.   : 5.2326   Max.   : 8.86018   Max.   : 3.42192  "
     },
     "metadata": {},
     "output_type": "display_data"
    }
   ],
   "source": [
    "dt = data.table(simData(E, scaling = FALSE))\n",
    "summary(dt)"
   ]
  },
  {
   "cell_type": "code",
   "execution_count": null,
   "metadata": {},
   "outputs": [],
   "source": [
    "f = bf(yt ~ g + E + g * E, sigma ~ 1 + E)\n",
    "m4 = brm(f, data = dt, family = brmsfamily(\"gaussian\", link_sigma = \"log\"))"
   ]
  },
  {
   "cell_type": "code",
   "execution_count": 18,
   "metadata": {},
   "outputs": [
    {
     "name": "stdout",
     "output_type": "stream",
     "text": [
      "\n",
      "==============================\n",
      "                 Model 1      \n",
      "------------------------------\n",
      "Intercept           -0.02     \n",
      "                 [-0.04; 0.01]\n",
      "sigma_Intercept      0.09 *   \n",
      "                 [ 0.08; 0.11]\n",
      "g                    0.21 *   \n",
      "                 [ 0.18; 0.24]\n",
      "E                   -0.02     \n",
      "                 [-0.04; 0.00]\n",
      "g:E                  0.06 *   \n",
      "                 [ 0.04; 0.08]\n",
      "sigma_E              0.39 *   \n",
      "                 [ 0.37; 0.41]\n",
      "------------------------------\n",
      "R^2                  0.03     \n",
      "Num. obs.         5000        \n",
      "loo IC           15091.61     \n",
      "WAIC             15091.60     \n",
      "==============================\n",
      "* 0 outside the confidence interval.\n"
     ]
    }
   ],
   "source": [
    "cat(screenreg(m4))"
   ]
  },
  {
   "cell_type": "code",
   "execution_count": 19,
   "metadata": {},
   "outputs": [
    {
     "data": {
      "text/plain": "Hypothesis Tests for class b:\n                Hypothesis Estimate Est.Error CI.Lower CI.Upper Evid.Ratio\n1 (g*sigma_E)-(g:E*... = 0     0.08      0.01     0.06     0.09         NA\n  Post.Prob Star\n1        NA    *\n---\n'CI': 90%-CI for one-sided and 95%-CI for two-sided hypotheses.\n'*': For one-sided hypotheses, the posterior probability exceeds 95%;\nfor two-sided hypotheses, the value tested against lies outside the 95%-CI.\nPosterior probabilities of point hypotheses assume equal prior probabilities."
     },
     "metadata": {},
     "output_type": "display_data"
    }
   ],
   "source": [
    "# I reject the null hypothesis\n",
    "hyp <- \"g * sigma_E = g:E * sigma_Intercept\"\n",
    "(hyp <- hypothesis(m4, hyp, alpha = 0.05))"
   ]
  }
 ],
 "metadata": {
  "kernelspec": {
   "display_name": "R",
   "language": "R",
   "name": "ir"
  },
  "language_info": {
   "codemirror_mode": "r",
   "file_extension": ".r",
   "mimetype": "text/x-r-source",
   "name": "R",
   "pygments_lexer": "r",
   "version": "4.0.4"
  }
 },
 "nbformat": 4,
 "nbformat_minor": 5
}