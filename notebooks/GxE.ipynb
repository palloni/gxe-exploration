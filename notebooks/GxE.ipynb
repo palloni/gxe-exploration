{
 "cells": [
  {
   "cell_type": "markdown",
   "metadata": {},
   "source": [
    "# GxE problem"
   ]
  },
  {
   "cell_type": "code",
   "execution_count": null,
   "metadata": {},
   "outputs": [],
   "source": [
    "library(brms)\n",
    "library(data.table)\n",
    "library(texreg)"
   ]
  },
  {
   "cell_type": "code",
   "execution_count": 2,
   "metadata": {},
   "outputs": [],
   "source": [
    "# Domingue's simulation function\n",
    "sim.data.dom = function(E, b0 = 0.1, b1=0.1, b2=0.2, b3=.2, h=0.5, a = 0.2, sigma=1, scaling = TRUE) {\n",
    "    N <- length(E)\n",
    "    G <- rnorm(N,0,1)\n",
    "    eps <- rnorm(N,0,sigma)\n",
    "    if (scaling){\n",
    "        e <- sqrt(1-h^2)\n",
    "        ystar <- h*G + e*eps\n",
    "        y <- a*E+(b0 + b1*E)*ystar\n",
    "    } else {\n",
    "        y <-  b1*G+b2*E+b3*G*E+eps*E+eps\n",
    "    }\n",
    "    if (scaling) {\n",
    "        df <- data.frame(E = E, y = y, g = G, ystar = ystar, h = h, eps = eps,  e = e)\n",
    "    }\n",
    "    else {\n",
    "        df <- data.frame(E  = E, y = y, g = G, eps = eps)\n",
    "    }\n",
    "    return(df)\n",
    "}"
   ]
  },
  {
   "cell_type": "markdown",
   "metadata": {},
   "source": [
    "## Scaling model"
   ]
  },
  {
   "cell_type": "code",
   "execution_count": 3,
   "metadata": {},
   "outputs": [
    {
     "data": {
      "text/plain": "       E                  y                   g                ystar          \n Min.   :-3.51315   Min.   :-0.934071   Min.   :-3.52681   Min.   :-3.419104  \n 1st Qu.:-0.66282   1st Qu.:-0.161978   1st Qu.:-0.65700   1st Qu.:-0.682363  \n Median : 0.01408   Median :-0.039251   Median :-0.01018   Median :-0.021061  \n Mean   : 0.01492   Mean   : 0.001047   Mean   : 0.00145   Mean   :-0.006696  \n 3rd Qu.: 0.68616   3rd Qu.: 0.129512   3rd Qu.: 0.64311   3rd Qu.: 0.669643  \n Max.   : 3.66642   Max.   : 1.341220   Max.   : 3.96468   Max.   : 3.785653  \n       h            eps                  e               sd           \n Min.   :0.5   Min.   :-3.718512   Min.   :0.866   Min.   :-3.220326  \n 1st Qu.:0.5   1st Qu.:-0.694542   1st Qu.:0.866   1st Qu.:-0.601491  \n Median :0.5   Median :-0.014119   Median :0.866   Median :-0.012228  \n Mean   :0.5   Mean   :-0.008569   Mean   :0.866   Mean   :-0.007421  \n 3rd Qu.:0.5   3rd Qu.: 0.676163   3rd Qu.:0.866   3rd Qu.: 0.585574  \n Max.   :0.5   Max.   : 3.418559   Max.   :0.866   Max.   : 2.960559  "
     },
     "metadata": {},
     "output_type": "display_data"
    }
   ],
   "source": [
    "E = rnorm(5000, 0, 1)\n",
    "dts = data.table(sim.data.dom(E, scaling = TRUE))\n",
    "dts[, sd := e * eps]\n",
    "summary(dts)"
   ]
  },
  {
   "cell_type": "code",
   "execution_count": 4,
   "metadata": {},
   "outputs": [
    {
     "name": "stdout",
     "output_type": "stream",
     "text": [
      "\n",
      "==================================================\n",
      "             Model 1      Model 2      Model 3    \n",
      "--------------------------------------------------\n",
      "(Intercept)    -0.01        -0.00         0.03 *  \n",
      "               (0.01)       (0.00)       (0.02)   \n",
      "g               0.51 ***     0.05 ***     0.36 ***\n",
      "               (0.01)       (0.00)       (0.01)   \n",
      "E              -0.01         0.20 ***     0.22 ***\n",
      "               (0.01)       (0.00)       (0.01)   \n",
      "g:E            -0.01         0.05 ***     0.20 ***\n",
      "               (0.01)       (0.00)       (0.00)   \n",
      "--------------------------------------------------\n",
      "R^2             0.25         0.74         0.44    \n",
      "Adj. R^2        0.25         0.74         0.43    \n",
      "Num. obs.    5000         5000         5000       \n",
      "==================================================\n",
      "*** p < 0.001; ** p < 0.01; * p < 0.05\n"
     ]
    }
   ],
   "source": [
    "cnames = c(\"ystar\", \"y\", \"y-wls\")\n",
    "m1 = lm(ystar ~ g + E + g * E, data = dts)\n",
    "m2 = lm(y ~ g + E + g * E, data = dts)\n",
    "wts = 1 / fitted(lm(abs(residuals(m2)) ~ fitted(m2)))^2\n",
    "m3  = lm(y ~ g + E + g * E, data = dts, weights=wts)\n",
    "cat(screenreg(list(m1, m2, m3)))"
   ]
  },
  {
   "cell_type": "markdown",
   "metadata": {},
   "source": [
    "\n",
    "# Bayesian distributional model"
   ]
  },
  {
   "cell_type": "code",
   "execution_count": null,
   "metadata": {},
   "outputs": [],
   "source": [
    "# distributional model using bayesian stats\n",
    "\n",
    "f = bf(y ~ g + E + g * E, sigma ~ 1 + E)\n",
    "m4 = brm(f, data = dts)"
   ]
  },
  {
   "cell_type": "code",
   "execution_count": 6,
   "metadata": {},
   "outputs": [
    {
     "data": {
      "text/plain": " Family: gaussian \n  Links: mu = identity; sigma = log \nFormula: y ~ g + E + g * E \n         sigma ~ 1 + E\n   Data: dts (Number of observations: 5000) \nSamples: 4 chains, each with iter = 2000; warmup = 1000; thin = 1;\n         total post-warmup samples = 4000\n\nPopulation-Level Effects: \n                Estimate Est.Error l-95% CI u-95% CI Rhat Bulk_ESS Tail_ESS\nIntercept          -0.00      0.00    -0.01     0.00 1.00     4726     3044\nsigma_Intercept    -2.27      0.01    -2.29    -2.25 1.00     1922     2276\ng                   0.05      0.00     0.05     0.05 1.00     4803     2981\nE                   0.20      0.00     0.19     0.20 1.00     4784     2996\ng:E                 0.05      0.00     0.05     0.05 1.00     4975     2723\nsigma_E             0.32      0.01     0.31     0.33 1.00     1907     1657\n\nSamples were drawn using sampling(NUTS). For each parameter, Bulk_ESS\nand Tail_ESS are effective sample size measures, and Rhat is the potential\nscale reduction factor on split chains (at convergence, Rhat = 1)."
     },
     "metadata": {},
     "output_type": "display_data"
    }
   ],
   "source": [
    "summary(m4)"
   ]
  },
  {
   "cell_type": "code",
   "execution_count": 19,
   "metadata": {},
   "outputs": [
    {
     "data": {
      "text/plain": "Hypothesis Tests for class b:\n                Hypothesis Estimate Est.Error CI.Lower CI.Upper Evid.Ratio\n1 (g*exp(sigma_E))-... = 0     0.06         0     0.06     0.07         NA\n  Post.Prob Star\n1        NA    *\n---\n'CI': 90%-CI for one-sided and 95%-CI for two-sided hypotheses.\n'*': For one-sided hypotheses, the posterior probability exceeds 95%;\nfor two-sided hypotheses, the value tested against lies outside the 95%-CI.\nPosterior probabilities of point hypotheses assume equal prior probabilities."
     },
     "metadata": {},
     "output_type": "display_data"
    }
   ],
   "source": [
    "hyp <- \"g * exp(sigma_E) = g:E * exp(sigma_Intercept)\"\n",
    "(hyp <- hypothesis(m4, hyp, alpha = 0.05))\n"
   ]
  }
 ],
 "metadata": {
  "kernelspec": {
   "display_name": "R",
   "language": "R",
   "name": "ir"
  },
  "language_info": {
   "codemirror_mode": "r",
   "file_extension": ".r",
   "mimetype": "text/x-r-source",
   "name": "R",
   "pygments_lexer": "r",
   "version": "4.0.4"
  }
 },
 "nbformat": 4,
 "nbformat_minor": 5
}