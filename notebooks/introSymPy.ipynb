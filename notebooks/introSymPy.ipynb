{
 "cells": [
  {
   "cell_type": "code",
   "execution_count": 21,
   "id": "broke-thunder",
   "metadata": {},
   "outputs": [],
   "source": [
    "from sympy import *\n",
    "init_printing()"
   ]
  },
  {
   "cell_type": "code",
   "execution_count": 71,
   "id": "homeless-fortune",
   "metadata": {
    "tags": []
   },
   "outputs": [
    {
     "data": {
      "image/png": "[encoded data removed]",
      "text/latex": [
       "$\\displaystyle 0.577350269189626$"
      ],
      "text/plain": [
       "0.577350269189626"
      ]
     },
     "execution_count": 71,
     "metadata": {},
     "output_type": "execute_result"
    }
   ],
   "source": [
    "h = 0.5\n",
    "e = N(sqrt(1-h**2))\n",
    "h/e"
   ]
  },
  {
   "cell_type": "code",
   "execution_count": 72,
   "id": "moral-reputation",
   "metadata": {},
   "outputs": [],
   "source": [
    "y,ys,a0,a1,b0,b1,E,G,h,e,er = symbols('y ys a0 a1 b0 b1 E G h e er')\n",
    "eq1 = Eq(y, + a1*E + (b0 + b1*E) * ys)\n",
    "eq2 = Eq(ys, h*G + e*er)"
   ]
  },
  {
   "cell_type": "code",
   "execution_count": 73,
   "id": "smart-doctrine",
   "metadata": {},
   "outputs": [
    {
     "data": {
      "image/png": "[encoded data removed]",
      "text/latex": [
       "$\\displaystyle \\left[ \\frac{- E a_{1} + y}{E b_{1} + b_{0}}\\right]$"
      ],
      "text/plain": [
       "⎡-E⋅a₁ + y⎤\n",
       "⎢─────────⎥\n",
       "⎣E⋅b₁ + b₀⎦"
      ]
     },
     "execution_count": 73,
     "metadata": {},
     "output_type": "execute_result"
    }
   ],
   "source": [
    "solve(eq1, ys)"
   ]
  },
  {
   "cell_type": "code",
   "execution_count": 76,
   "id": "excessive-angola",
   "metadata": {},
   "outputs": [
    {
     "data": {
      "image/png": "[encoded data removed]",
      "text/latex": [
       "$\\displaystyle \\left\\{ y : E G b_{1} h + E a_{1} + E b_{1} e er + G b_{0} h + b_{0} e er, \\  ys : G h + e er\\right\\}$"
      ],
      "text/plain": [
       "{y: E⋅G⋅b₁⋅h + E⋅a₁ + E⋅b₁⋅e⋅er + G⋅b₀⋅h + b₀⋅e⋅er, ys: G⋅h + e⋅er}"
      ]
     },
     "execution_count": 76,
     "metadata": {},
     "output_type": "execute_result"
    }
   ],
   "source": [
    "r = solve([eq1,eq2], (y, ys))\n",
    "r"
   ]
  }
 ],
 "metadata": {
  "kernelspec": {
   "display_name": "Python 3",
   "language": "python",
   "name": "python3"
  },
  "language_info": {
   "codemirror_mode": {
    "name": "ipython",
    "version": 3
   },
   "file_extension": ".py",
   "mimetype": "text/x-python",
   "name": "python",
   "nbconvert_exporter": "python",
   "pygments_lexer": "ipython3",
   "version": "3.9.2"
  }
 },
 "nbformat": 4,
 "nbformat_minor": 5
}
