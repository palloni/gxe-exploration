{
 "cells": [
  {
   "cell_type": "markdown",
   "source": [
    "# Exploring spouses Method to estimate GxE\n",
    "\n",
    "- Following the literature of network effects, we can say there are three general mechanisms why spouses can be similar regarding any trait:\n",
    "    - Selection (similar spouses chose each other)\n",
    "    - Influence (spouses influence each other)\n",
    "    - Common exposure to an environment (spouses are affected by the same context, e.g., neighborhood)\n",
    "- To give some examples:\n",
    "    - My spouse can have a similar BMI because we were exposed to similar environments (e.g., parents' SES) due to selection (assortative mating) on exposures or associated traits\n",
    "    - My spouse and her preferences could influence me (e.g., I ended up eating more vegetables)\n",
    "    - I influence my wife. Influence effects, thus, are not always symmetric.\n",
    "    - Finally, we live in a neighborhood where there are few places to exercise, so we both don't exercise much.\n",
    "- We cannot distinguish between these effects easily (the classical problem of selection and influence in social networks)\n",
    "- Alberto proposes the formula below to estimate GxE, assuming that $BMI_w$ (of alter or wife) is a good proxy to different exposures:\n",
    "    - $BMI_h = \\delta_1 BMI_w + \\beta_1 G_h + \\gamma_1 G_h  BMI_w + \\epsilon_1$\n",
    "    - Following the effects defined above, $BMI_w$ would include: \n",
    "        - % shared previous environment (depending on how strong is assortative mating). This could be related to multiple traits and environments and would operate mostly through selection and assortative mating. Unfortunately, we cannot clearly distinguish what we mean by the environment in this case. \n",
    "        - % influence of husband on wife. This is not an environment/exposure for the husband (ego), but it would be in $\\delta_1$ and $\\gamma_1$.  It's the classical reflection issue of network effects.  We don't have longitudinal data to figure this out (BMI before and after knowing or living with the spouse)\n",
    "        - % influence of wife (alter) on husband (ego). This could be defined as exposure. \n",
    "        - % shared context (e.g., neighborhood effects, etc.)\n",
    "- Assortative mating on the phenotype might create some assortative mating on genes.\n",
    "\n",
    "\n"
   ],
   "metadata": {}
  },
  {
   "cell_type": "markdown",
   "source": [
    "# ABM\n",
    "\n",
    "To explore the causal model and estimation strategies, we can create a simple agent-based model for BMI:\n",
    "\n",
    "- Let's start with 1000 agents with a simple set of characteristics: \n",
    "    - **Environment** (E): a summary variable of all the exposure relevant to BMI before getting a spouse (normal distribution)\n",
    "    - **Polygenic score** (PG) (normal distribution)\n",
    "    - **Susceptibility** (S) to be influenced by a spouse (uniform, 0-1)\n",
    "- At some point in life, agents look for a spouse. They can do it randomly or based on the **environment** of the potential spouse. Agents pick up a random potential spouse, check her **environment** score, and if the difference with their score is lower than a threshold, they select her; otherwise, they keep looking for a spouse. After ten tries, they give up and select an agent randomly. \n",
    "- Once an agent got a spouse, the variable **household** (H) is defined (normal distribution), representing  a shared context and exposure for spouses. \n",
    "- It's also possible agents influence each other. The influence effect would depend on the **susceptibility** of each agent. \n",
    "- With these parts, we can define BMI. We define two BMIs: before having a partner, and after having a spouse:\n",
    "    - $BMI_0 = \\beta_1 \\times PG + \\beta_2 \\times E + \\beta_3 PG \\times E + \\epsilon_i$\n",
    "    - $BMI_1 = BMI_0 + \\beta_4 \\times S \\times BMI_0 + \\beta_5  \\times S \\times BMI_0  \\times PGS + \\beta_6  \\times H + \\beta_7 \\times H \\times PGS$\n",
    "- With this structure, we can generate some data. Some features: \n",
    "    - By construction, the simulation does not generation assortative mating on genes, but only on $E$. \n",
    "    - There is no selection on $S$, that could be changed. \n",
    "\n",
    "\n",
    "\n"
   ],
   "metadata": {}
  },
  {
   "cell_type": "code",
   "execution_count": null,
   "source": [
    "library(data.table)"
   ],
   "outputs": [],
   "metadata": {}
  },
  {
   "cell_type": "code",
   "execution_count": null,
   "source": [],
   "outputs": [],
   "metadata": {}
  },
  {
   "cell_type": "code",
   "execution_count": null,
   "source": [],
   "outputs": [],
   "metadata": {}
  }
 ],
 "metadata": {
  "orig_nbformat": 4,
  "language_info": {
   "name": "R",
   "codemirror_mode": "r",
   "pygments_lexer": "r",
   "mimetype": "text/x-r-source",
   "file_extension": ".r",
   "version": "4.0.4"
  },
  "kernelspec": {
   "name": "ir",
   "display_name": "R",
   "language": "R"
  },
  "interpreter": {
   "hash": "ecf5722fdaf1897a315d257d89d94520bfcaa453217d5becf09b39e73618b0de"
  }
 },
 "nbformat": 4,
 "nbformat_minor": 2
}